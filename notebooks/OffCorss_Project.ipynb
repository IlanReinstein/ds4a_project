{
 "cells": [
  {
   "cell_type": "code",
   "execution_count": null,
   "metadata": {
    "colab": {
     "base_uri": "https://localhost:8080/",
     "height": 34
    },
    "colab_type": "code",
    "id": "ebg_oVQ12Wjw",
    "outputId": "f24462f4-67ed-4c54-93fb-0ab720d5d49e"
   },
   "outputs": [
    {
     "name": "stdout",
     "output_type": "stream",
     "text": [
      "Mounted at /content/drive/\n"
     ]
    }
   ],
   "source": [
    "from google.colab import drive\n",
    "drive.mount('/content/drive/')"
   ]
  },
  {
   "cell_type": "code",
   "execution_count": 13,
   "metadata": {
    "colab": {},
    "colab_type": "code",
    "id": "uMOfoGsfSi1_"
   },
   "outputs": [],
   "source": [
    "#Ruta de acceso para cualquier archivo\n",
    "dataMatriz = '/content/drive/My Drive/PROJECT/DATA_OFFCORSS/MATRIZ DE INFORMACIÓN CAMPAÑA 7.xlsx' \n",
    "dataCampania= '/content/drive/My Drive/PROJECT/DATA_OFFCORSS/DATA CIERRE CAMPAÑA 7  - VENTA POR CATALOGO.xlsx'\n"
   ]
  },
  {
   "cell_type": "code",
   "execution_count": 11,
   "metadata": {
    "colab": {},
    "colab_type": "code",
    "id": "Amyy5haMVU05"
   },
   "outputs": [],
   "source": [
    "import pandas as pd"
   ]
  },
  {
   "cell_type": "code",
   "execution_count": 14,
   "metadata": {
    "colab": {},
    "colab_type": "code",
    "id": "9pZj7Jt_dCDy"
   },
   "outputs": [],
   "source": [
    "dMatriz = pd.read_excel(dataMatriz, sheet_name='matriz')"
   ]
  },
  {
   "cell_type": "code",
   "execution_count": 15,
   "metadata": {
    "colab": {},
    "colab_type": "code",
    "id": "b3BEFrpFTl9h"
   },
   "outputs": [],
   "source": [
    " dCampania = pd.read_excel(dataCampania)"
   ]
  },
  {
   "cell_type": "code",
   "execution_count": 16,
   "metadata": {
    "colab": {
     "base_uri": "https://localhost:8080/",
     "height": 204
    },
    "colab_type": "code",
    "id": "N3svc976VTfh",
    "outputId": "f4837f32-904d-4d22-9e88-19835e7874ea"
   },
   "outputs": [
    {
     "data": {
      "text/plain": [
       "Index(['CONCA', 'GÉNERO', 'MUNDO', 'CLASIFICACIÓN', 'ESTRATEGIA',\n",
       "       'NOMBRE COLECCIÓN', 'TIPO DE VENTA', '# PÁGINA', 'COTTON', 'MATERIAL',\n",
       "       'DESCRIPCIÓN', 'DESCRIPCIÓN COMERCIAL', 'COMPOSICIÓN', 'COLOR GALLERY',\n",
       "       'TALLA', 'COLOR COMERCIAL', 'LÍNEA DE GRABACIÓN', 'PLU', '$$ REGULAR',\n",
       "       '$$ CATALOGO', 'AHORRO', 'PRECIO FACTURA', 'PRECIO FACTURA SIN IVA',\n",
       "       'COSTO REAL', 'MARGEN REAL', 'CAMPAÑA', 'TIPO DE PRENDA', 'MES MODA',\n",
       "       '%DESC. COMERCIAL', '%DESC. ASCESORA', 'VALOR MATRIZ', 'Grupo articulo',\n",
       "       'EXHIBICIÓN', 'EXPOSICIÓN', 'NUM_ APARICIONES', 'PORTADA',\n",
       "       'ZOOM_PRODUCTO', 'PESO_ EXHIBICIÓN', 'ESTAMPADO P.SUPERIORES',\n",
       "       'ESTAMPADO P.INFERIORES', 'OCURRENCIA'],\n",
       "      dtype='object')"
      ]
     },
     "execution_count": 16,
     "metadata": {
      "tags": []
     },
     "output_type": "execute_result"
    }
   ],
   "source": [
    "dMatriz.columns"
   ]
  },
  {
   "cell_type": "code",
   "execution_count": 17,
   "metadata": {
    "colab": {
     "base_uri": "https://localhost:8080/",
     "height": 136
    },
    "colab_type": "code",
    "id": "YcKP8J82VdVf",
    "outputId": "e4474dba-9933-481c-86de-0ce0e5d021ed"
   },
   "outputs": [
    {
     "data": {
      "text/plain": [
       "Index(['AÑO', 'CAMPAÑA', 'REGION', 'DESCRIPICION_ZONA', 'NUMERO_ZONA',\n",
       "       'CLASIFICACION', 'ESTRATEGIA', 'GRUPO_ARTICULO', 'TIPO PRENDA',\n",
       "       'NUMERO_PEDIDO', 'REFERENCIA', 'COLOR_COMERCIAL', 'CODIGO_COLOR',\n",
       "       'TALLA', 'SKU_PLU', 'PRECIO_CATALOGO', 'COSTO', 'DDA UND', 'FAC UND',\n",
       "       'DDA $$', 'FAC $$', 'MARGEN', 'NIVEL_SERVICIO', 'NUMERO_DE_PEDIDOS',\n",
       "       'NPU_D', 'UPE_D', 'ORDEN_PROMEDIO'],\n",
       "      dtype='object')"
      ]
     },
     "execution_count": 17,
     "metadata": {
      "tags": []
     },
     "output_type": "execute_result"
    }
   ],
   "source": [
    "dCampania.columns"
   ]
  },
  {
   "cell_type": "markdown",
   "metadata": {
    "colab_type": "text",
    "id": "q_hIaHRqVqbi"
   },
   "source": [
    "**Project Summary**: For this project, our goal is to generate demand predictions for a specific sales channel of the client. As we mentioned in the Project Scoping, there is a specific sales channel on which will focus our attention, that is direct sales, which are completed through sales-persons face-to-face with clients via a physical catalog. Such catalog is launched 12 times in a year and it contains multiple collections from which clients can choose from. We will be focusing on a single campaign: \"Moda\". This campaign changes for every catalog, hence the challenge of making accurate and asertive prediction on the demand.\n",
    "\n",
    "Each sales-person places the order to Off-Corss without having true ground knowledge of the avilability of inventory, therefore, the demand on these orders is not always met, and our client and the sales people incur in significant lossess. In order to minimze these losses our client's planning team uses an ad-hoc procedure based on prior catalog sales to estimate the number of units that should be put into production.\n",
    "\n",
    "**Data**: Out client has provided us two tables extracted at the end of a single catalog, i.e., one of the twelve that produces in the year. The first table **Campaña** has information such as the region of the order, date, specific reference features (color, size, price, collection), demand (how many units were ordered), among other. The second table **Matriz** hold information on how the specifi item was displayed in the catalog so we can find variables like page number, location on page, if the item has prints on it, the zoom on the item, and other information which is not entirely structure or correlated with our client's current forecasting approach. \n"
   ]
  },
  {
   "cell_type": "markdown",
   "metadata": {
    "colab_type": "text",
    "id": "2u8Eu5G5eEuN"
   },
   "source": [
    "## Campaign Data\n",
    "\n",
    "Let's start with looking at what type of variables are we dealing with in this table."
   ]
  },
  {
   "cell_type": "code",
   "execution_count": 32,
   "metadata": {
    "colab": {
     "base_uri": "https://localhost:8080/",
     "height": 595
    },
    "colab_type": "code",
    "id": "tGxeH5guaOIN",
    "outputId": "9bef969b-9e20-410e-b3f3-cc11684f516e"
   },
   "outputs": [
    {
     "name": "stdout",
     "output_type": "stream",
     "text": [
      "<class 'pandas.core.frame.DataFrame'>\n",
      "RangeIndex: 162793 entries, 0 to 162792\n",
      "Data columns (total 27 columns):\n",
      " #   Column             Non-Null Count   Dtype  \n",
      "---  ------             --------------   -----  \n",
      " 0   AÑO                162793 non-null  int64  \n",
      " 1   CAMPAÑA            162793 non-null  int64  \n",
      " 2   REGION             162793 non-null  object \n",
      " 3   DESCRIPICION_ZONA  162793 non-null  object \n",
      " 4   NUMERO_ZONA        162793 non-null  int64  \n",
      " 5   CLASIFICACION      162793 non-null  object \n",
      " 6   ESTRATEGIA         162793 non-null  object \n",
      " 7   GRUPO_ARTICULO     162793 non-null  object \n",
      " 8   TIPO PRENDA        162793 non-null  object \n",
      " 9   NUMERO_PEDIDO      162793 non-null  int64  \n",
      " 10  REFERENCIA         162793 non-null  int64  \n",
      " 11  COLOR_COMERCIAL    162793 non-null  object \n",
      " 12  CODIGO_COLOR       162793 non-null  object \n",
      " 13  TALLA              162793 non-null  object \n",
      " 14  SKU_PLU            162793 non-null  int64  \n",
      " 15  PRECIO_CATALOGO    162793 non-null  float64\n",
      " 16  COSTO              162793 non-null  float64\n",
      " 17  DDA UND            162793 non-null  int64  \n",
      " 18  FAC UND            162793 non-null  int64  \n",
      " 19  DDA $$             162793 non-null  int64  \n",
      " 20  FAC $$             162793 non-null  int64  \n",
      " 21  MARGEN             162793 non-null  float64\n",
      " 22  NIVEL_SERVICIO     162793 non-null  float64\n",
      " 23  NUMERO_DE_PEDIDOS  162793 non-null  int64  \n",
      " 24  NPU_D              162793 non-null  float64\n",
      " 25  UPE_D              162793 non-null  float64\n",
      " 26  ORDEN_PROMEDIO     162793 non-null  float64\n",
      "dtypes: float64(7), int64(11), object(9)\n",
      "memory usage: 33.5+ MB\n"
     ]
    }
   ],
   "source": [
    "dCampania.info()"
   ]
  },
  {
   "cell_type": "markdown",
   "metadata": {
    "colab_type": "text",
    "id": "uImjTDHLgoHg"
   },
   "source": [
    "The total number of orders for this single campaign is:"
   ]
  },
  {
   "cell_type": "code",
   "execution_count": 34,
   "metadata": {
    "colab": {
     "base_uri": "https://localhost:8080/",
     "height": 34
    },
    "colab_type": "code",
    "id": "OdIpFWxQglAk",
    "outputId": "2000aec5-b619-4835-e44f-45bdbf1e7768"
   },
   "outputs": [
    {
     "data": {
      "text/plain": [
       "162793"
      ]
     },
     "execution_count": 34,
     "metadata": {
      "tags": []
     },
     "output_type": "execute_result"
    }
   ],
   "source": [
    "len(dCampania)"
   ]
  },
  {
   "cell_type": "markdown",
   "metadata": {
    "colab_type": "text",
    "id": "fCulKuSyeQ7g"
   },
   "source": [
    "Which correspond to a set of 2925 references:"
   ]
  },
  {
   "cell_type": "code",
   "execution_count": 35,
   "metadata": {
    "colab": {
     "base_uri": "https://localhost:8080/",
     "height": 34
    },
    "colab_type": "code",
    "id": "ygn94JQbae7u",
    "outputId": "ee8dd4b5-1f49-4a6c-fc6b-abdda91db6fa"
   },
   "outputs": [
    {
     "data": {
      "text/plain": [
       "2925"
      ]
     },
     "execution_count": 35,
     "metadata": {
      "tags": []
     },
     "output_type": "execute_result"
    }
   ],
   "source": [
    "len(dCampania.SKU_PLU.unique())"
   ]
  },
  {
   "cell_type": "markdown",
   "metadata": {
    "colab_type": "text",
    "id": "9mMYrOcIeq1R"
   },
   "source": [
    "These references are grouped by \"CLASIFICACION\" or collections. Let's see how many refernces are associated with each collection:"
   ]
  },
  {
   "cell_type": "code",
   "execution_count": 59,
   "metadata": {
    "colab": {
     "base_uri": "https://localhost:8080/",
     "height": 266
    },
    "colab_type": "code",
    "id": "OxQ9xK6LecuN",
    "outputId": "8d506bf4-aead-4b08-98da-c6dd88a8b112"
   },
   "outputs": [
    {
     "data": {
      "text/html": [
       "<div>\n",
       "<style scoped>\n",
       "    .dataframe tbody tr th:only-of-type {\n",
       "        vertical-align: middle;\n",
       "    }\n",
       "\n",
       "    .dataframe tbody tr th {\n",
       "        vertical-align: top;\n",
       "    }\n",
       "\n",
       "    .dataframe thead th {\n",
       "        text-align: right;\n",
       "    }\n",
       "</style>\n",
       "<table border=\"1\" class=\"dataframe\">\n",
       "  <thead>\n",
       "    <tr style=\"text-align: right;\">\n",
       "      <th></th>\n",
       "      <th>SKU_PLU</th>\n",
       "    </tr>\n",
       "    <tr>\n",
       "      <th>CLASIFICACION</th>\n",
       "      <th></th>\n",
       "    </tr>\n",
       "  </thead>\n",
       "  <tbody>\n",
       "    <tr>\n",
       "      <th>Moda</th>\n",
       "      <td>991</td>\n",
       "    </tr>\n",
       "    <tr>\n",
       "      <th>Virtual</th>\n",
       "      <td>565</td>\n",
       "    </tr>\n",
       "    <tr>\n",
       "      <th>Básicos</th>\n",
       "      <td>529</td>\n",
       "    </tr>\n",
       "    <tr>\n",
       "      <th>Categorías</th>\n",
       "      <td>480</td>\n",
       "    </tr>\n",
       "    <tr>\n",
       "      <th>Líneas</th>\n",
       "      <td>309</td>\n",
       "    </tr>\n",
       "    <tr>\n",
       "      <th>Saldos</th>\n",
       "      <td>65</td>\n",
       "    </tr>\n",
       "  </tbody>\n",
       "</table>\n",
       "</div>"
      ],
      "text/plain": [
       "               SKU_PLU\n",
       "CLASIFICACION         \n",
       "Moda               991\n",
       "Virtual            565\n",
       "Básicos            529\n",
       "Categorías         480\n",
       "Líneas             309\n",
       "Saldos              65"
      ]
     },
     "execution_count": 59,
     "metadata": {
      "tags": []
     },
     "output_type": "execute_result"
    }
   ],
   "source": [
    "dCampania.groupby('CLASIFICACION').agg({'SKU_PLU':'nunique'}).sort_values('SKU_PLU', ascending=False)"
   ]
  },
  {
   "cell_type": "markdown",
   "metadata": {
    "colab_type": "text",
    "id": "UKPFv7tpfsRj"
   },
   "source": [
    "As mentioned, the \"Moda\" Collection is the one with most references in this sales catalog, we expect to see a similar behavior for other catalogs as well. It is why we are focusing our efforts in improving the forecasting of demand of this specific Classification.\n",
    "\n",
    "Are the most sales/orders also associated with this collection? What percentage of total sales correspond to each Classification?\n",
    "\n"
   ]
  },
  {
   "cell_type": "code",
   "execution_count": 60,
   "metadata": {
    "colab": {
     "base_uri": "https://localhost:8080/",
     "height": 136
    },
    "colab_type": "code",
    "id": "0qvVOn8ahRN-",
    "outputId": "cbb99355-63de-4d7e-cf91-515aaac694c2"
   },
   "outputs": [
    {
     "data": {
      "text/plain": [
       "Moda          37.349886\n",
       "Básicos       15.704606\n",
       "Virtual       14.106258\n",
       "Categorías    14.015345\n",
       "Líneas        11.965502\n",
       "Saldos         6.858403\n",
       "Name: CLASIFICACION, dtype: float64"
      ]
     },
     "execution_count": 60,
     "metadata": {
      "tags": []
     },
     "output_type": "execute_result"
    }
   ],
   "source": [
    "dCampania.CLASIFICACION.value_counts()/len(dCampania)*100"
   ]
  },
  {
   "cell_type": "markdown",
   "metadata": {
    "colab_type": "text",
    "id": "gm3hFmdNhQX6"
   },
   "source": [
    "Yes! Over 30% of the sales of this catalog were predominantly made or \"Moda\" items, followed by Básicos, and since it's 2020, Tapabocas.\n",
    "\n",
    "These classification is further broken down into Strategy (Estrategia), let's see which Estrategia and how many references bewlong to each:\n"
   ]
  },
  {
   "cell_type": "code",
   "execution_count": 61,
   "metadata": {
    "colab": {
     "base_uri": "https://localhost:8080/",
     "height": 1000
    },
    "colab_type": "code",
    "id": "_xzO3jfUnVgp",
    "outputId": "b7215e93-5e5c-4c31-c7fe-12420d24bc28"
   },
   "outputs": [
    {
     "data": {
      "text/html": [
       "<div>\n",
       "<style scoped>\n",
       "    .dataframe tbody tr th:only-of-type {\n",
       "        vertical-align: middle;\n",
       "    }\n",
       "\n",
       "    .dataframe tbody tr th {\n",
       "        vertical-align: top;\n",
       "    }\n",
       "\n",
       "    .dataframe thead th {\n",
       "        text-align: right;\n",
       "    }\n",
       "</style>\n",
       "<table border=\"1\" class=\"dataframe\">\n",
       "  <thead>\n",
       "    <tr style=\"text-align: right;\">\n",
       "      <th></th>\n",
       "      <th></th>\n",
       "      <th>SKU_PLU</th>\n",
       "    </tr>\n",
       "    <tr>\n",
       "      <th>CLASIFICACION</th>\n",
       "      <th>ESTRATEGIA</th>\n",
       "      <th></th>\n",
       "    </tr>\n",
       "  </thead>\n",
       "  <tbody>\n",
       "    <tr>\n",
       "      <th>Básicos</th>\n",
       "      <th>Básicos</th>\n",
       "      <td>529</td>\n",
       "    </tr>\n",
       "    <tr>\n",
       "      <th rowspan=\"8\" valign=\"top\">Categorías</th>\n",
       "      <th>Calzado</th>\n",
       "      <td>396</td>\n",
       "    </tr>\n",
       "    <tr>\n",
       "      <th>Cuidado personal</th>\n",
       "      <td>32</td>\n",
       "    </tr>\n",
       "    <tr>\n",
       "      <th>Hogar</th>\n",
       "      <td>8</td>\n",
       "    </tr>\n",
       "    <tr>\n",
       "      <th>Ingeribles</th>\n",
       "      <td>2</td>\n",
       "    </tr>\n",
       "    <tr>\n",
       "      <th>Juguetería</th>\n",
       "      <td>3</td>\n",
       "    </tr>\n",
       "    <tr>\n",
       "      <th>Pets</th>\n",
       "      <td>22</td>\n",
       "    </tr>\n",
       "    <tr>\n",
       "      <th>Snacks saludables</th>\n",
       "      <td>4</td>\n",
       "    </tr>\n",
       "    <tr>\n",
       "      <th>Vhera lucci</th>\n",
       "      <td>13</td>\n",
       "    </tr>\n",
       "    <tr>\n",
       "      <th rowspan=\"3\" valign=\"top\">Líneas</th>\n",
       "      <th>ABC</th>\n",
       "      <td>63</td>\n",
       "    </tr>\n",
       "    <tr>\n",
       "      <th>Interior</th>\n",
       "      <td>121</td>\n",
       "    </tr>\n",
       "    <tr>\n",
       "      <th>Pijamas</th>\n",
       "      <td>125</td>\n",
       "    </tr>\n",
       "    <tr>\n",
       "      <th>Moda</th>\n",
       "      <th>Moda</th>\n",
       "      <td>991</td>\n",
       "    </tr>\n",
       "    <tr>\n",
       "      <th rowspan=\"4\" valign=\"top\">Saldos</th>\n",
       "      <th>Evacuación Básicos</th>\n",
       "      <td>20</td>\n",
       "    </tr>\n",
       "    <tr>\n",
       "      <th>Evacuación Oc Sport</th>\n",
       "      <td>15</td>\n",
       "    </tr>\n",
       "    <tr>\n",
       "      <th>Evacuación Playa</th>\n",
       "      <td>8</td>\n",
       "    </tr>\n",
       "    <tr>\n",
       "      <th>Evacuación moda</th>\n",
       "      <td>22</td>\n",
       "    </tr>\n",
       "    <tr>\n",
       "      <th rowspan=\"13\" valign=\"top\">Virtual</th>\n",
       "      <th>Básicos</th>\n",
       "      <td>24</td>\n",
       "    </tr>\n",
       "    <tr>\n",
       "      <th>ESPRIT</th>\n",
       "      <td>53</td>\n",
       "    </tr>\n",
       "    <tr>\n",
       "      <th>Evacuación Básicos</th>\n",
       "      <td>26</td>\n",
       "    </tr>\n",
       "    <tr>\n",
       "      <th>Evacuación Pijamas</th>\n",
       "      <td>12</td>\n",
       "    </tr>\n",
       "    <tr>\n",
       "      <th>Evacuación Tapabocas</th>\n",
       "      <td>6</td>\n",
       "    </tr>\n",
       "    <tr>\n",
       "      <th>Hogar</th>\n",
       "      <td>1</td>\n",
       "    </tr>\n",
       "    <tr>\n",
       "      <th>Interior</th>\n",
       "      <td>13</td>\n",
       "    </tr>\n",
       "    <tr>\n",
       "      <th>Juguetería</th>\n",
       "      <td>13</td>\n",
       "    </tr>\n",
       "    <tr>\n",
       "      <th>Moda</th>\n",
       "      <td>41</td>\n",
       "    </tr>\n",
       "    <tr>\n",
       "      <th>Protección</th>\n",
       "      <td>147</td>\n",
       "    </tr>\n",
       "    <tr>\n",
       "      <th>Special Ocassions</th>\n",
       "      <td>137</td>\n",
       "    </tr>\n",
       "    <tr>\n",
       "      <th>Tapabocas</th>\n",
       "      <td>62</td>\n",
       "    </tr>\n",
       "    <tr>\n",
       "      <th>VELEZ</th>\n",
       "      <td>30</td>\n",
       "    </tr>\n",
       "  </tbody>\n",
       "</table>\n",
       "</div>"
      ],
      "text/plain": [
       "                                    SKU_PLU\n",
       "CLASIFICACION ESTRATEGIA                   \n",
       "Básicos       Básicos                   529\n",
       "Categorías    Calzado                   396\n",
       "              Cuidado personal           32\n",
       "              Hogar                       8\n",
       "              Ingeribles                  2\n",
       "              Juguetería                  3\n",
       "              Pets                       22\n",
       "              Snacks saludables           4\n",
       "              Vhera lucci                13\n",
       "Líneas        ABC                        63\n",
       "              Interior                  121\n",
       "              Pijamas                   125\n",
       "Moda          Moda                      991\n",
       "Saldos        Evacuación Básicos         20\n",
       "              Evacuación Oc Sport        15\n",
       "              Evacuación Playa            8\n",
       "              Evacuación moda            22\n",
       "Virtual       Básicos                    24\n",
       "              ESPRIT                     53\n",
       "              Evacuación Básicos         26\n",
       "              Evacuación Pijamas         12\n",
       "              Evacuación Tapabocas        6\n",
       "              Hogar                       1\n",
       "              Interior                   13\n",
       "              Juguetería                 13\n",
       "              Moda                       41\n",
       "              Protección                147\n",
       "              Special Ocassions         137\n",
       "              Tapabocas                  62\n",
       "              VELEZ                      30"
      ]
     },
     "execution_count": 61,
     "metadata": {
      "tags": []
     },
     "output_type": "execute_result"
    }
   ],
   "source": [
    "dCampania.groupby(['CLASIFICACION', 'ESTRATEGIA']).agg({'SKU_PLU':'nunique'})"
   ]
  },
  {
   "cell_type": "markdown",
   "metadata": {
    "colab_type": "text",
    "id": "nLRQmM64m28U"
   },
   "source": [
    "How are then these references grouped by type of product, is it more pants, jackets, shirts?"
   ]
  },
  {
   "cell_type": "code",
   "execution_count": 75,
   "metadata": {
    "colab": {
     "base_uri": "https://localhost:8080/",
     "height": 1000
    },
    "colab_type": "code",
    "id": "pDQbvscpexpd",
    "outputId": "4076d2f6-ade5-48f8-e4c0-59a46df6663c"
   },
   "outputs": [
    {
     "data": {
      "text/html": [
       "<div>\n",
       "<style scoped>\n",
       "    .dataframe tbody tr th:only-of-type {\n",
       "        vertical-align: middle;\n",
       "    }\n",
       "\n",
       "    .dataframe tbody tr th {\n",
       "        vertical-align: top;\n",
       "    }\n",
       "\n",
       "    .dataframe thead th {\n",
       "        text-align: right;\n",
       "    }\n",
       "</style>\n",
       "<table border=\"1\" class=\"dataframe\">\n",
       "  <thead>\n",
       "    <tr style=\"text-align: right;\">\n",
       "      <th></th>\n",
       "      <th>SKU_PLU</th>\n",
       "    </tr>\n",
       "    <tr>\n",
       "      <th>GRUPO_ARTICULO</th>\n",
       "      <th></th>\n",
       "    </tr>\n",
       "  </thead>\n",
       "  <tbody>\n",
       "    <tr>\n",
       "      <th>CAMISETA</th>\n",
       "      <td>641</td>\n",
       "    </tr>\n",
       "    <tr>\n",
       "      <th>CALZADO</th>\n",
       "      <td>396</td>\n",
       "    </tr>\n",
       "    <tr>\n",
       "      <th>PANTALON CORTO</th>\n",
       "      <td>230</td>\n",
       "    </tr>\n",
       "    <tr>\n",
       "      <th>PANTALON LARGO</th>\n",
       "      <td>214</td>\n",
       "    </tr>\n",
       "    <tr>\n",
       "      <th>CONJUNTO</th>\n",
       "      <td>211</td>\n",
       "    </tr>\n",
       "    <tr>\n",
       "      <th>BUZO O CHAQUETA</th>\n",
       "      <td>175</td>\n",
       "    </tr>\n",
       "    <tr>\n",
       "      <th>CAMISA</th>\n",
       "      <td>166</td>\n",
       "    </tr>\n",
       "    <tr>\n",
       "      <th>PIJAMA</th>\n",
       "      <td>162</td>\n",
       "    </tr>\n",
       "    <tr>\n",
       "      <th>DENIM</th>\n",
       "      <td>105</td>\n",
       "    </tr>\n",
       "    <tr>\n",
       "      <th>BODY</th>\n",
       "      <td>91</td>\n",
       "    </tr>\n",
       "    <tr>\n",
       "      <th>VESTIDO</th>\n",
       "      <td>90</td>\n",
       "    </tr>\n",
       "    <tr>\n",
       "      <th>TAPABOCAS</th>\n",
       "      <td>68</td>\n",
       "    </tr>\n",
       "    <tr>\n",
       "      <th>FALDA</th>\n",
       "      <td>50</td>\n",
       "    </tr>\n",
       "    <tr>\n",
       "      <th>Cuidado personal</th>\n",
       "      <td>49</td>\n",
       "    </tr>\n",
       "    <tr>\n",
       "      <th>CUELLO</th>\n",
       "      <td>36</td>\n",
       "    </tr>\n",
       "    <tr>\n",
       "      <th>OVERALL</th>\n",
       "      <td>36</td>\n",
       "    </tr>\n",
       "    <tr>\n",
       "      <th>MISCELÁNEOS</th>\n",
       "      <td>30</td>\n",
       "    </tr>\n",
       "    <tr>\n",
       "      <th>SET</th>\n",
       "      <td>29</td>\n",
       "    </tr>\n",
       "    <tr>\n",
       "      <th>PANTY</th>\n",
       "      <td>19</td>\n",
       "    </tr>\n",
       "    <tr>\n",
       "      <th>PAÑOLETA</th>\n",
       "      <td>17</td>\n",
       "    </tr>\n",
       "    <tr>\n",
       "      <th>Juguetería</th>\n",
       "      <td>16</td>\n",
       "    </tr>\n",
       "    <tr>\n",
       "      <th>MEDIAS</th>\n",
       "      <td>14</td>\n",
       "    </tr>\n",
       "    <tr>\n",
       "      <th>ENTERIZO EXTERIOR</th>\n",
       "      <td>14</td>\n",
       "    </tr>\n",
       "    <tr>\n",
       "      <th>SOMBRERO</th>\n",
       "      <td>10</td>\n",
       "    </tr>\n",
       "    <tr>\n",
       "      <th>Hogar</th>\n",
       "      <td>9</td>\n",
       "    </tr>\n",
       "    <tr>\n",
       "      <th>TOP</th>\n",
       "      <td>9</td>\n",
       "    </tr>\n",
       "    <tr>\n",
       "      <th>PANTALONCILLO</th>\n",
       "      <td>9</td>\n",
       "    </tr>\n",
       "    <tr>\n",
       "      <th>CAPUCHA</th>\n",
       "      <td>8</td>\n",
       "    </tr>\n",
       "    <tr>\n",
       "      <th>ROPA DE BAÑO</th>\n",
       "      <td>7</td>\n",
       "    </tr>\n",
       "    <tr>\n",
       "      <th>CORBATA</th>\n",
       "      <td>6</td>\n",
       "    </tr>\n",
       "    <tr>\n",
       "      <th>CARGADERA</th>\n",
       "      <td>4</td>\n",
       "    </tr>\n",
       "    <tr>\n",
       "      <th>CORREA</th>\n",
       "      <td>3</td>\n",
       "    </tr>\n",
       "    <tr>\n",
       "      <th>Toalla</th>\n",
       "      <td>1</td>\n",
       "    </tr>\n",
       "  </tbody>\n",
       "</table>\n",
       "</div>"
      ],
      "text/plain": [
       "                   SKU_PLU\n",
       "GRUPO_ARTICULO            \n",
       "CAMISETA               641\n",
       "CALZADO                396\n",
       "PANTALON CORTO         230\n",
       "PANTALON LARGO         214\n",
       "CONJUNTO               211\n",
       "BUZO O CHAQUETA        175\n",
       "CAMISA                 166\n",
       "PIJAMA                 162\n",
       "DENIM                  105\n",
       "BODY                    91\n",
       "VESTIDO                 90\n",
       "TAPABOCAS               68\n",
       "FALDA                   50\n",
       "Cuidado personal        49\n",
       "CUELLO                  36\n",
       "OVERALL                 36\n",
       "MISCELÁNEOS             30\n",
       "SET                     29\n",
       "PANTY                   19\n",
       "PAÑOLETA                17\n",
       "Juguetería              16\n",
       "MEDIAS                  14\n",
       "ENTERIZO EXTERIOR       14\n",
       "SOMBRERO                10\n",
       "Hogar                    9\n",
       "TOP                      9\n",
       "PANTALONCILLO            9\n",
       "CAPUCHA                  8\n",
       "ROPA DE BAÑO             7\n",
       "CORBATA                  6\n",
       "CARGADERA                4\n",
       "CORREA                   3\n",
       "Toalla                   1"
      ]
     },
     "execution_count": 75,
     "metadata": {
      "tags": []
     },
     "output_type": "execute_result"
    }
   ],
   "source": [
    "dCampania.groupby(['GRUPO_ARTICULO']).agg({'SKU_PLU':'nunique'}).sort_values('SKU_PLU', ascending=False)"
   ]
  },
  {
   "cell_type": "markdown",
   "metadata": {
    "colab_type": "text",
    "id": "qSfM79OTie9W"
   },
   "source": [
    "How are the orders grouped by the type of article? What proportion of sales does each type covers?"
   ]
  },
  {
   "cell_type": "code",
   "execution_count": 76,
   "metadata": {
    "colab": {
     "base_uri": "https://localhost:8080/",
     "height": 595
    },
    "colab_type": "code",
    "id": "BAl7IfsNgVSc",
    "outputId": "31b4bcf7-1f01-438e-c519-13b8764bb458"
   },
   "outputs": [
    {
     "data": {
      "text/plain": [
       "CAMISETA             25.005375\n",
       "CONJUNTO             13.796662\n",
       "TAPABOCAS             9.230127\n",
       "Cuidado personal      6.336882\n",
       "PANTALON CORTO        6.029743\n",
       "PANTALON LARGO        5.884774\n",
       "CALZADO               4.885345\n",
       "PIJAMA                4.354610\n",
       "BODY                  4.088014\n",
       "VESTIDO               3.579392\n",
       "CAMISA                2.000700\n",
       "Juguetería            1.818260\n",
       "DENIM                 1.804132\n",
       "SET                   1.562721\n",
       "Hogar                 1.498222\n",
       "FALDA                 1.374752\n",
       "BUZO O CHAQUETA       1.296125\n",
       "OVERALL               1.269096\n",
       "PANTY                 0.762318\n",
       "MEDIAS                0.695976\n",
       "ENTERIZO EXTERIOR     0.418323\n",
       "TOP                   0.367338\n",
       "CORBATA               0.351366\n",
       "PAÑOLETA              0.347681\n",
       "PANTALONCILLO         0.337852\n",
       "ROPA DE BAÑO          0.262911\n",
       "MISCELÁNEOS           0.181212\n",
       "CUELLO                0.172612\n",
       "SOMBRERO              0.137598\n",
       "CAPUCHA               0.068799\n",
       "Toalla                0.035628\n",
       "CARGADERA             0.025800\n",
       "CORREA                0.019657\n",
       "Name: GRUPO_ARTICULO, dtype: float64"
      ]
     },
     "execution_count": 76,
     "metadata": {
      "tags": []
     },
     "output_type": "execute_result"
    }
   ],
   "source": [
    "dCampania.GRUPO_ARTICULO.value_counts()/len(dCampania)*100"
   ]
  },
  {
   "cell_type": "markdown",
   "metadata": {
    "colab_type": "text",
    "id": "YoUzFgM4jSmY"
   },
   "source": [
    "As we can see from this table, around 50% of sales is concentrated around only 5 products. This item group can be further broken down into more categories. Let's see the top 20 item types sorted by number of references:\n"
   ]
  },
  {
   "cell_type": "code",
   "execution_count": 78,
   "metadata": {
    "colab": {
     "base_uri": "https://localhost:8080/",
     "height": 700
    },
    "colab_type": "code",
    "id": "4Z36b1PEiwNr",
    "outputId": "3aab6c73-21a8-40ef-fcc9-f08684aa8a4a"
   },
   "outputs": [
    {
     "data": {
      "text/html": [
       "<div>\n",
       "<style scoped>\n",
       "    .dataframe tbody tr th:only-of-type {\n",
       "        vertical-align: middle;\n",
       "    }\n",
       "\n",
       "    .dataframe tbody tr th {\n",
       "        vertical-align: top;\n",
       "    }\n",
       "\n",
       "    .dataframe thead th {\n",
       "        text-align: right;\n",
       "    }\n",
       "</style>\n",
       "<table border=\"1\" class=\"dataframe\">\n",
       "  <thead>\n",
       "    <tr style=\"text-align: right;\">\n",
       "      <th></th>\n",
       "      <th></th>\n",
       "      <th>SKU_PLU</th>\n",
       "    </tr>\n",
       "    <tr>\n",
       "      <th>GRUPO_ARTICULO</th>\n",
       "      <th>TIPO PRENDA</th>\n",
       "      <th></th>\n",
       "    </tr>\n",
       "  </thead>\n",
       "  <tbody>\n",
       "    <tr>\n",
       "      <th rowspan=\"2\" valign=\"top\">CAMISETA</th>\n",
       "      <th>CAMISETA MANGA CORTA</th>\n",
       "      <td>317</td>\n",
       "    </tr>\n",
       "    <tr>\n",
       "      <th>CAMISETA MANGA SISA</th>\n",
       "      <td>177</td>\n",
       "    </tr>\n",
       "    <tr>\n",
       "      <th>CALZADO</th>\n",
       "      <th>TENIS</th>\n",
       "      <td>176</td>\n",
       "    </tr>\n",
       "    <tr>\n",
       "      <th>PANTALON CORTO</th>\n",
       "      <th>BERMUDA</th>\n",
       "      <td>113</td>\n",
       "    </tr>\n",
       "    <tr>\n",
       "      <th>CAMISETA</th>\n",
       "      <th>CAMISETA</th>\n",
       "      <td>109</td>\n",
       "    </tr>\n",
       "    <tr>\n",
       "      <th>DENIM</th>\n",
       "      <th>DENIM</th>\n",
       "      <td>105</td>\n",
       "    </tr>\n",
       "    <tr>\n",
       "      <th>PANTALON LARGO</th>\n",
       "      <th>SUDADERA</th>\n",
       "      <td>103</td>\n",
       "    </tr>\n",
       "    <tr>\n",
       "      <th>PANTALON CORTO</th>\n",
       "      <th>SHORT</th>\n",
       "      <td>89</td>\n",
       "    </tr>\n",
       "    <tr>\n",
       "      <th>CALZADO</th>\n",
       "      <th>BOTAS</th>\n",
       "      <td>87</td>\n",
       "    </tr>\n",
       "    <tr>\n",
       "      <th>CONJUNTO</th>\n",
       "      <th>CONJUNTO LARGO</th>\n",
       "      <td>85</td>\n",
       "    </tr>\n",
       "    <tr>\n",
       "      <th>CALZADO</th>\n",
       "      <th>SANDALIA</th>\n",
       "      <td>83</td>\n",
       "    </tr>\n",
       "    <tr>\n",
       "      <th>CONJUNTO</th>\n",
       "      <th>CONJUNTO CORTO</th>\n",
       "      <td>79</td>\n",
       "    </tr>\n",
       "    <tr>\n",
       "      <th>BODY</th>\n",
       "      <th>BODY MANGA CORTA</th>\n",
       "      <td>73</td>\n",
       "    </tr>\n",
       "    <tr>\n",
       "      <th>CAMISA</th>\n",
       "      <th>CAMISA MANGA CORTA</th>\n",
       "      <td>63</td>\n",
       "    </tr>\n",
       "    <tr>\n",
       "      <th>BUZO O CHAQUETA</th>\n",
       "      <th>CHAQUETA</th>\n",
       "      <td>62</td>\n",
       "    </tr>\n",
       "    <tr>\n",
       "      <th>PANTALON LARGO</th>\n",
       "      <th>PANTALON</th>\n",
       "      <td>54</td>\n",
       "    </tr>\n",
       "    <tr>\n",
       "      <th>CAMISA</th>\n",
       "      <th>CAMISA MANGA LARGA</th>\n",
       "      <td>53</td>\n",
       "    </tr>\n",
       "    <tr>\n",
       "      <th rowspan=\"2\" valign=\"top\">BUZO O CHAQUETA</th>\n",
       "      <th>BUZO</th>\n",
       "      <td>50</td>\n",
       "    </tr>\n",
       "    <tr>\n",
       "      <th>BUZO O CHAQUETA</th>\n",
       "      <td>50</td>\n",
       "    </tr>\n",
       "    <tr>\n",
       "      <th>FALDA</th>\n",
       "      <th>MINIFALDA</th>\n",
       "      <td>50</td>\n",
       "    </tr>\n",
       "  </tbody>\n",
       "</table>\n",
       "</div>"
      ],
      "text/plain": [
       "                                      SKU_PLU\n",
       "GRUPO_ARTICULO  TIPO PRENDA                  \n",
       "CAMISETA        CAMISETA MANGA CORTA      317\n",
       "                CAMISETA MANGA SISA       177\n",
       "CALZADO         TENIS                     176\n",
       "PANTALON CORTO  BERMUDA                   113\n",
       "CAMISETA        CAMISETA                  109\n",
       "DENIM           DENIM                     105\n",
       "PANTALON LARGO  SUDADERA                  103\n",
       "PANTALON CORTO  SHORT                      89\n",
       "CALZADO         BOTAS                      87\n",
       "CONJUNTO        CONJUNTO LARGO             85\n",
       "CALZADO         SANDALIA                   83\n",
       "CONJUNTO        CONJUNTO CORTO             79\n",
       "BODY            BODY MANGA CORTA           73\n",
       "CAMISA          CAMISA MANGA CORTA         63\n",
       "BUZO O CHAQUETA CHAQUETA                   62\n",
       "PANTALON LARGO  PANTALON                   54\n",
       "CAMISA          CAMISA MANGA LARGA         53\n",
       "BUZO O CHAQUETA BUZO                       50\n",
       "                BUZO O CHAQUETA            50\n",
       "FALDA           MINIFALDA                  50"
      ]
     },
     "execution_count": 78,
     "metadata": {
      "tags": []
     },
     "output_type": "execute_result"
    }
   ],
   "source": [
    "dCampania.groupby(['GRUPO_ARTICULO', 'TIPO PRENDA']).agg({'SKU_PLU':'nunique'}).sort_values('SKU_PLU', ascending=False)[:20]"
   ]
  },
  {
   "cell_type": "markdown",
   "metadata": {
    "colab_type": "text",
    "id": "xQB3KWbxkQwt"
   },
   "source": [
    "This breakdown may be too specific for our purposes, but it is important to know since when looking at the non-structured information pulled from the catalog, it'll be useful to map and identify if this leel of granularity will help explain some of the variance.\n",
    "\n",
    "Another important factor that will play out into our modelling is that of location of the sales. In fact, we know from the client that items will be demanded differently by the different regions of the country. Let's see the distribution of orders by region:"
   ]
  },
  {
   "cell_type": "code",
   "execution_count": 79,
   "metadata": {
    "colab": {
     "base_uri": "https://localhost:8080/",
     "height": 119
    },
    "colab_type": "code",
    "id": "L9mhpO0KjyuJ",
    "outputId": "3e26a4e0-9c1e-42fd-b5f1-9e322303b53c"
   },
   "outputs": [
    {
     "data": {
      "text/plain": [
       "ORIENTE        0.278777\n",
       "SUR            0.223161\n",
       "OCCIDENTE      0.189750\n",
       "NORTE          0.173576\n",
       "TELEFONICAS    0.134736\n",
       "Name: REGION, dtype: float64"
      ]
     },
     "execution_count": 79,
     "metadata": {
      "tags": []
     },
     "output_type": "execute_result"
    }
   ],
   "source": [
    "dCampania['REGION'].value_counts()/len(dCampania)"
   ]
  },
  {
   "cell_type": "markdown",
   "metadata": {
    "colab_type": "text",
    "id": "YST5pCrXmDet"
   },
   "source": [
    "The orders are pretty much evenly distributed. We also notice that among regions phone sales are included. This is an interesing fact about regional sales, since we will not be able to relate these orders to a specific climate, hence our predicitons will be limited when merging with geolocated data."
   ]
  },
  {
   "cell_type": "markdown",
   "metadata": {
    "colab_type": "text",
    "id": "vz7SX2LAq1TE"
   },
   "source": [
    "Is there a more informative detailed way of locating these sales within each region?"
   ]
  },
  {
   "cell_type": "code",
   "execution_count": 103,
   "metadata": {
    "colab": {
     "base_uri": "https://localhost:8080/",
     "height": 1000
    },
    "colab_type": "code",
    "id": "hTg6oK_wq0Mu",
    "outputId": "d22fba38-8261-4893-dae1-f92ade7a177d"
   },
   "outputs": [
    {
     "data": {
      "text/plain": [
       "{'NORTE': ['BARRANQUILLA 2',\n",
       "  'BARRANQUILLA 4',\n",
       "  'SANTA MARTA NORTE',\n",
       "  'SANTA MARTA SUR',\n",
       "  'CARTAGENA 1',\n",
       "  'CARTAGENA 2',\n",
       "  'CARTAGENA POBLACIONES',\n",
       "  'SABANALARGA',\n",
       "  'FUNDACIÓN',\n",
       "  'EL CARMEN DE BOLIVAR',\n",
       "  'MONTERIA NORTE',\n",
       "  'MONTERIA SUR',\n",
       "  'MAGANGUE',\n",
       "  'CERETE',\n",
       "  'PLANETA RICA',\n",
       "  'SIN REGISTRO'],\n",
       " 'OCCIDENTE': ['NIQUIA',\n",
       "  'BELLO',\n",
       "  'ARANJUEZ',\n",
       "  'CAUCASIA',\n",
       "  'APARTADO',\n",
       "  'TURBO',\n",
       "  'LA DORADA',\n",
       "  'PUERTO BERRIO',\n",
       "  'ITSMINA',\n",
       "  'CALI',\n",
       "  'BUENAVENTURA',\n",
       "  'PASTO',\n",
       "  'QUIBDO'],\n",
       " 'ORIENTE': ['SOGAMOSO',\n",
       "  'BUCARAMANGA 1',\n",
       "  'GIRON',\n",
       "  'CUCUTA 1',\n",
       "  'CUCUTA 2',\n",
       "  'AGUAZUL',\n",
       "  'ARAUCA',\n",
       "  'COPEY',\n",
       "  'AGUACHICA',\n",
       "  'OCAÑA',\n",
       "  'BARRANCABERMEJA',\n",
       "  'RIOHACHA   ',\n",
       "  'VALLEDUPAR 1',\n",
       "  'VALLEDUPAR 2',\n",
       "  'MAICAO   '],\n",
       " 'SUR ': ['ESPINAL',\n",
       "  'VILLAVICENCIO NORTE',\n",
       "  'VILLAVICENCIO ORIENTE',\n",
       "  'GUAVIARE',\n",
       "  'GARZON',\n",
       "  'SIN REGISTRO',\n",
       "  'FLORENCIA',\n",
       "  'NEIVA 1',\n",
       "  'GRANADA',\n",
       "  'PITALITO',\n",
       "  'MOCOA',\n",
       "  'IBAGUE',\n",
       "  'YOPAL',\n",
       "  'VILLAVICENCIO SUR'],\n",
       " 'TELEFONICAS': ['TELEFONICA 1',\n",
       "  'TELEFONICA 3',\n",
       "  'TELEFONICA 4',\n",
       "  'SIN REGISTRO']}"
      ]
     },
     "execution_count": 103,
     "metadata": {
      "tags": []
     },
     "output_type": "execute_result"
    }
   ],
   "source": [
    "region = dCampania.REGION.unique()\n",
    "locations = {r: list(dCampania[dCampania.REGION == r].DESCRIPICION_ZONA.unique()) for r in region}\n",
    "locations"
   ]
  },
  {
   "cell_type": "markdown",
   "metadata": {
    "colab_type": "text",
    "id": "pHyyeH74txvC"
   },
   "source": [
    "As we see there are a limited number of zones within each region for which we can map each sale. This level may be enough to include climate as a possible factor of sales of specific references."
   ]
  },
  {
   "cell_type": "markdown",
   "metadata": {
    "colab_type": "text",
    "id": "nfeDogHToLIx"
   },
   "source": [
    "### Moda Collection\n",
    "\n",
    "Let's for a moment stop here to look only at the \"Moda\" Collection, which is initially the one we are more interested in. How are references grouped by type of article within this Collection? How many orders by Item Group were produced?"
   ]
  },
  {
   "cell_type": "code",
   "execution_count": 104,
   "metadata": {
    "colab": {
     "base_uri": "https://localhost:8080/",
     "height": 483
    },
    "colab_type": "code",
    "id": "6dahN0IEoKSB",
    "outputId": "24e9f7fc-8f10-4c0e-ba0b-85fc4cd2a1e3"
   },
   "outputs": [
    {
     "data": {
      "text/html": [
       "<div>\n",
       "<style scoped>\n",
       "    .dataframe tbody tr th:only-of-type {\n",
       "        vertical-align: middle;\n",
       "    }\n",
       "\n",
       "    .dataframe tbody tr th {\n",
       "        vertical-align: top;\n",
       "    }\n",
       "\n",
       "    .dataframe thead th {\n",
       "        text-align: right;\n",
       "    }\n",
       "</style>\n",
       "<table border=\"1\" class=\"dataframe\">\n",
       "  <thead>\n",
       "    <tr style=\"text-align: right;\">\n",
       "      <th></th>\n",
       "      <th>SKU_PLU</th>\n",
       "    </tr>\n",
       "    <tr>\n",
       "      <th>GRUPO_ARTICULO</th>\n",
       "      <th></th>\n",
       "    </tr>\n",
       "  </thead>\n",
       "  <tbody>\n",
       "    <tr>\n",
       "      <th>CAMISETA</th>\n",
       "      <td>281</td>\n",
       "    </tr>\n",
       "    <tr>\n",
       "      <th>CONJUNTO</th>\n",
       "      <td>182</td>\n",
       "    </tr>\n",
       "    <tr>\n",
       "      <th>PANTALON CORTO</th>\n",
       "      <td>131</td>\n",
       "    </tr>\n",
       "    <tr>\n",
       "      <th>PANTALON LARGO</th>\n",
       "      <td>107</td>\n",
       "    </tr>\n",
       "    <tr>\n",
       "      <th>DENIM</th>\n",
       "      <td>56</td>\n",
       "    </tr>\n",
       "    <tr>\n",
       "      <th>CAMISA</th>\n",
       "      <td>52</td>\n",
       "    </tr>\n",
       "    <tr>\n",
       "      <th>BODY</th>\n",
       "      <td>48</td>\n",
       "    </tr>\n",
       "    <tr>\n",
       "      <th>FALDA</th>\n",
       "      <td>33</td>\n",
       "    </tr>\n",
       "    <tr>\n",
       "      <th>BUZO O CHAQUETA</th>\n",
       "      <td>28</td>\n",
       "    </tr>\n",
       "    <tr>\n",
       "      <th>VESTIDO</th>\n",
       "      <td>27</td>\n",
       "    </tr>\n",
       "    <tr>\n",
       "      <th>OVERALL</th>\n",
       "      <td>22</td>\n",
       "    </tr>\n",
       "    <tr>\n",
       "      <th>ENTERIZO EXTERIOR</th>\n",
       "      <td>14</td>\n",
       "    </tr>\n",
       "    <tr>\n",
       "      <th>SET</th>\n",
       "      <td>10</td>\n",
       "    </tr>\n",
       "  </tbody>\n",
       "</table>\n",
       "</div>"
      ],
      "text/plain": [
       "                   SKU_PLU\n",
       "GRUPO_ARTICULO            \n",
       "CAMISETA               281\n",
       "CONJUNTO               182\n",
       "PANTALON CORTO         131\n",
       "PANTALON LARGO         107\n",
       "DENIM                   56\n",
       "CAMISA                  52\n",
       "BODY                    48\n",
       "FALDA                   33\n",
       "BUZO O CHAQUETA         28\n",
       "VESTIDO                 27\n",
       "OVERALL                 22\n",
       "ENTERIZO EXTERIOR       14\n",
       "SET                     10"
      ]
     },
     "execution_count": 104,
     "metadata": {
      "tags": []
     },
     "output_type": "execute_result"
    }
   ],
   "source": [
    "moda = dCampania[dCampania.CLASIFICACION == \"Moda\"]\n",
    "moda.groupby('GRUPO_ARTICULO').agg({'SKU_PLU':'nunique'}).sort_values('SKU_PLU',ascending=False)"
   ]
  },
  {
   "cell_type": "markdown",
   "metadata": {
    "colab_type": "text",
    "id": "JPK4MpqbuIbv"
   },
   "source": [
    "How are the sales of the collection disgributed by item type?"
   ]
  },
  {
   "cell_type": "code",
   "execution_count": 105,
   "metadata": {
    "colab": {
     "base_uri": "https://localhost:8080/",
     "height": 255
    },
    "colab_type": "code",
    "id": "QnNKVlo6oJQ9",
    "outputId": "157c8379-9e3f-42a7-a237-a4c6edc80c33"
   },
   "outputs": [
    {
     "data": {
      "text/plain": [
       "CONJUNTO             35.004852\n",
       "CAMISETA             28.210779\n",
       "PANTALON CORTO        7.315429\n",
       "VESTIDO               4.820486\n",
       "PANTALON LARGO        4.730030\n",
       "BODY                  4.308998\n",
       "DENIM                 3.503117\n",
       "FALDA                 3.320560\n",
       "OVERALL               2.514679\n",
       "CAMISA                2.378172\n",
       "SET                   1.945628\n",
       "ENTERIZO EXTERIOR     1.120011\n",
       "BUZO O CHAQUETA       0.827262\n",
       "Name: GRUPO_ARTICULO, dtype: float64"
      ]
     },
     "execution_count": 105,
     "metadata": {
      "tags": []
     },
     "output_type": "execute_result"
    }
   ],
   "source": [
    "moda.GRUPO_ARTICULO.value_counts()/len(moda)*100"
   ]
  },
  {
   "cell_type": "markdown",
   "metadata": {
    "colab_type": "text",
    "id": "Y0QPIBuiuZa2"
   },
   "source": [
    "### Prices (TO-DO)"
   ]
  },
  {
   "cell_type": "markdown",
   "metadata": {
    "colab_type": "text",
    "id": "D0FxpCWpufN9"
   },
   "source": [
    "### Missing Values"
   ]
  },
  {
   "cell_type": "markdown",
   "metadata": {
    "colab_type": "text",
    "id": "lR96EaNFue2D"
   },
   "source": [
    "### Numerical Variables\n",
    "\n",
    "- Distributions by hierarchies"
   ]
  },
  {
   "cell_type": "markdown",
   "metadata": {
    "colab_type": "text",
    "id": "peEGpfMKueb8"
   },
   "source": [
    "### Response Variable: Demand\n",
    "\n",
    "Now that we have seen how possible predictors behave and how they are distributed, we'd like to see what potential models we could fit to our observations. Rememeber this is a highly variable and volatile process and the only ground truth measurement we have is the Demand Amount, i.e., how many units of each reference will be ordered."
   ]
  },
  {
   "cell_type": "code",
   "execution_count": 110,
   "metadata": {
    "colab": {
     "base_uri": "https://localhost:8080/",
     "height": 285
    },
    "colab_type": "code",
    "id": "l18cNnIjvOgE",
    "outputId": "e1381520-cd54-4018-c318-94221fd2fe55"
   },
   "outputs": [
    {
     "data": {
      "text/plain": [
       "<matplotlib.axes._subplots.AxesSubplot at 0x7f1e7fcdd7f0>"
      ]
     },
     "execution_count": 110,
     "metadata": {
      "tags": []
     },
     "output_type": "execute_result"
    },
    {
     "data": {
      "image/png": "[encoded data removed]",
      "text/plain": [
       "<Figure size 432x288 with 1 Axes>"
      ]
     },
     "metadata": {
      "needs_background": "light",
      "tags": []
     },
     "output_type": "display_data"
    }
   ],
   "source": [
    "dCampania['DDA UND'].hist()"
   ]
  },
  {
   "cell_type": "markdown",
   "metadata": {
    "colab_type": "text",
    "id": "u7Vewh0QveP_"
   },
   "source": [
    "As we see from the histogram of the units orderd across all references, we see that most sales are only on a single unit. This will be a problem for modeling since it is a highly skewed variable. Some highlights:\n",
    "\n",
    "- Demand is stricly positive, there shuold not be negative demanded units for any reference\n",
    "- Demand is an integer values: there is no such thing as partial units\n",
    "\n",
    "This variable can be considered a count, therefore approriate modeling assumptions will be required."
   ]
  },
  {
   "cell_type": "markdown",
   "metadata": {
    "colab_type": "text",
    "id": "uf_bZdgpyhYE"
   },
   "source": [
    "How deviated were the actual registered sales and the orders? "
   ]
  },
  {
   "cell_type": "code",
   "execution_count": 116,
   "metadata": {
    "colab": {
     "base_uri": "https://localhost:8080/",
     "height": 279
    },
    "colab_type": "code",
    "id": "YnuXJ6r0yf2S",
    "outputId": "0476f7b6-b959-46ce-9d83-de8e2ca8ab8a"
   },
   "outputs": [
    {
     "data": {
      "image/png": "[encoded data removed]",
      "text/plain": [
       "<Figure size 432x288 with 1 Axes>"
      ]
     },
     "metadata": {
      "needs_background": "light",
      "tags": []
     },
     "output_type": "display_data"
    }
   ],
   "source": [
    "_ = dCampania.plot(x = 'DDA UND', y = 'FAC UND', kind = 'scatter')\n"
   ]
  },
  {
   "cell_type": "markdown",
   "metadata": {
    "colab_type": "text",
    "id": "v721y9vszCMI"
   },
   "source": [
    "We expect to see all sales on the diagonal (45 degree) line where the true sold units and the ordered units were equal. There are some strange values where no units were ordered but there were sales associated with this. We'll have to dig deeper into those data points to understand what may have happened."
   ]
  },
  {
   "cell_type": "markdown",
   "metadata": {
    "colab_type": "text",
    "id": "8bXwdW3xvBzx"
   },
   "source": [
    "### Potential modeling Questions\n",
    "\n",
    "- Further exploration on relationships between demand and reference features.\n",
    "- Further exploration on demand by region"
   ]
  },
  {
   "cell_type": "markdown",
   "metadata": {
    "colab_type": "text",
    "id": "PnX8LyYNufCe"
   },
   "source": [
    "## Matriz (Catalog) Data - Unstructured\n",
    "\n",
    "- Look for overlaps in variables\n",
    "- look for hierarchies\n",
    "- How does the \"Moda\" collection looks form this angle?\n",
    "\n"
   ]
  },
  {
   "cell_type": "code",
   "execution_count": null,
   "metadata": {
    "colab": {},
    "colab_type": "code",
    "id": "6ZleU95svtZ-"
   },
   "outputs": [],
   "source": []
  }
 ],
 "metadata": {
  "colab": {
   "collapsed_sections": [],
   "name": "OffCorss_Project.ipynb",
   "provenance": [],
   "toc_visible": true
  },
  "kernelspec": {
   "display_name": "Python 3",
   "language": "python",
   "name": "python3"
  },
  "language_info": {
   "codemirror_mode": {
    "name": "ipython",
    "version": 3
   },
   "file_extension": ".py",
   "mimetype": "text/x-python",
   "name": "python",
   "nbconvert_exporter": "python",
   "pygments_lexer": "ipython3",
   "version": "3.7.7"
  }
 },
 "nbformat": 4,
 "nbformat_minor": 4
}
